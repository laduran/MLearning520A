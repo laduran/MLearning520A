{
 "cells": [
  {
   "cell_type": "markdown",
   "metadata": {},
   "source": [
    "# Multiclass Classification\n",
    "\n",
    "While binary classifiers are used to distinguish between two classes (e.g. detect if a transaction is a fraudulent one, classify an email into either spam or non-spam and etc.), multiclass classifiers distinguish between more than two classes. \n",
    "\n",
    "There are various ways that we can use to perform multiclass classification by leveraging any binary classifiers. In this exercise, you will implement two such strategies for multiclass classification: _One-versus-all_ strategy and _One-versus-one_ strategy.\n",
    "\n",
    "- **One-versus-all (OvA)**: In this strategy, we train a single binary classifier per class, with the samples of that class as positive samples and all other samples as negatives. During inference, we get the prediction from each classifier and select the class with the highest score. This strategy is also called the one-versus-the-rest strtegey. \n",
    "\n",
    "- **One-versus-one (OvO)**: In this strategy, we train a binary classifier for every pair of classes. If there are N classes in the problem, you need to train N * (N-1) / 2 classifiers. During inference, we have to run through all N * (N-1) / 2 classifiers and ses which class wins the most votes. The main advantage of OvO strategy is that each binary classifier only needs to be train on the part of the training dataset for the two classes that it needs to separate. "
   ]
  },
  {
   "cell_type": "code",
   "execution_count": 11,
   "metadata": {},
   "outputs": [],
   "source": [
    "# import packages\n",
    "%matplotlib inline\n",
    "import numpy as np\n",
    "import matplotlib.pyplot as plt\n",
    "import pandas as pd\n",
    "from sklearn import datasets\n",
    "from sklearn.linear_model import LogisticRegression\n",
    "\n",
    "# make this notebook's output stable across runs\n",
    "np.random.seed(0)"
   ]
  },
  {
   "cell_type": "markdown",
   "metadata": {},
   "source": [
    "## Avila Dataset\n",
    "\n",
    "In this lab assignment, we use the [Avila](https://archive.ics.uci.edu/ml/datasets/Avila) data set has been extracted from 800 images of the the \"Avila Bible\", a giant Latin copy of the whole Bible produced during the XII century between Italy and Spain.  \n",
    "The palaeographic analysis of the  manuscript has  individuated the presence of 12 copyists. The pages written by each copyist are not equally numerous. \n",
    "Each pattern contains 10 features and corresponds to a group of 4 consecutive rows.\n",
    "\n",
    "The prediction task consists in associating each pattern to one of the 12 copyists (labeled as: A, B, C, D, E, F, G, H, I, W, X, Y).\n",
    "The data have has been normalized, by using the Z-normalization method, and divided in two data sets: a training set containing 10430 samples, and a test set  containing the 10437 samples.\n"
   ]
  },
  {
   "cell_type": "code",
   "execution_count": 17,
   "metadata": {},
   "outputs": [
    {
     "data": {
      "text/html": [
       "<div>\n",
       "<style scoped>\n",
       "    .dataframe tbody tr th:only-of-type {\n",
       "        vertical-align: middle;\n",
       "    }\n",
       "\n",
       "    .dataframe tbody tr th {\n",
       "        vertical-align: top;\n",
       "    }\n",
       "\n",
       "    .dataframe thead th {\n",
       "        text-align: right;\n",
       "    }\n",
       "</style>\n",
       "<table border=\"1\" class=\"dataframe\">\n",
       "  <thead>\n",
       "    <tr style=\"text-align: right;\">\n",
       "      <th></th>\n",
       "      <th>0</th>\n",
       "      <th>1</th>\n",
       "      <th>2</th>\n",
       "      <th>3</th>\n",
       "      <th>4</th>\n",
       "      <th>5</th>\n",
       "      <th>6</th>\n",
       "      <th>7</th>\n",
       "      <th>8</th>\n",
       "      <th>9</th>\n",
       "      <th>10</th>\n",
       "    </tr>\n",
       "  </thead>\n",
       "  <tbody>\n",
       "    <tr>\n",
       "      <th>0</th>\n",
       "      <td>0.266074</td>\n",
       "      <td>-0.165620</td>\n",
       "      <td>0.320980</td>\n",
       "      <td>0.483299</td>\n",
       "      <td>0.172340</td>\n",
       "      <td>0.273364</td>\n",
       "      <td>0.371178</td>\n",
       "      <td>0.929823</td>\n",
       "      <td>0.251173</td>\n",
       "      <td>0.159345</td>\n",
       "      <td>A</td>\n",
       "    </tr>\n",
       "    <tr>\n",
       "      <th>1</th>\n",
       "      <td>0.130292</td>\n",
       "      <td>0.870736</td>\n",
       "      <td>-3.210528</td>\n",
       "      <td>0.062493</td>\n",
       "      <td>0.261718</td>\n",
       "      <td>1.436060</td>\n",
       "      <td>1.465940</td>\n",
       "      <td>0.636203</td>\n",
       "      <td>0.282354</td>\n",
       "      <td>0.515587</td>\n",
       "      <td>A</td>\n",
       "    </tr>\n",
       "    <tr>\n",
       "      <th>2</th>\n",
       "      <td>-0.116585</td>\n",
       "      <td>0.069915</td>\n",
       "      <td>0.068476</td>\n",
       "      <td>-0.783147</td>\n",
       "      <td>0.261718</td>\n",
       "      <td>0.439463</td>\n",
       "      <td>-0.081827</td>\n",
       "      <td>-0.888236</td>\n",
       "      <td>-0.123005</td>\n",
       "      <td>0.582939</td>\n",
       "      <td>A</td>\n",
       "    </tr>\n",
       "    <tr>\n",
       "      <th>3</th>\n",
       "      <td>0.031541</td>\n",
       "      <td>0.297600</td>\n",
       "      <td>-3.210528</td>\n",
       "      <td>-0.583590</td>\n",
       "      <td>-0.721442</td>\n",
       "      <td>-0.307984</td>\n",
       "      <td>0.710932</td>\n",
       "      <td>1.051693</td>\n",
       "      <td>0.594169</td>\n",
       "      <td>-0.533994</td>\n",
       "      <td>A</td>\n",
       "    </tr>\n",
       "    <tr>\n",
       "      <th>4</th>\n",
       "      <td>0.229043</td>\n",
       "      <td>0.807926</td>\n",
       "      <td>-0.052442</td>\n",
       "      <td>0.082634</td>\n",
       "      <td>0.261718</td>\n",
       "      <td>0.148790</td>\n",
       "      <td>0.635431</td>\n",
       "      <td>0.051062</td>\n",
       "      <td>0.032902</td>\n",
       "      <td>-0.086652</td>\n",
       "      <td>F</td>\n",
       "    </tr>\n",
       "  </tbody>\n",
       "</table>\n",
       "</div>"
      ],
      "text/plain": [
       "         0         1         2         3         4         5         6   \\\n",
       "0  0.266074 -0.165620  0.320980  0.483299  0.172340  0.273364  0.371178   \n",
       "1  0.130292  0.870736 -3.210528  0.062493  0.261718  1.436060  1.465940   \n",
       "2 -0.116585  0.069915  0.068476 -0.783147  0.261718  0.439463 -0.081827   \n",
       "3  0.031541  0.297600 -3.210528 -0.583590 -0.721442 -0.307984  0.710932   \n",
       "4  0.229043  0.807926 -0.052442  0.082634  0.261718  0.148790  0.635431   \n",
       "\n",
       "         7         8         9  10  \n",
       "0  0.929823  0.251173  0.159345  A  \n",
       "1  0.636203  0.282354  0.515587  A  \n",
       "2 -0.888236 -0.123005  0.582939  A  \n",
       "3  1.051693  0.594169 -0.533994  A  \n",
       "4  0.051062  0.032902 -0.086652  F  "
      ]
     },
     "execution_count": 17,
     "metadata": {},
     "output_type": "execute_result"
    }
   ],
   "source": [
    "# Load train and test data from CSV files.\n",
    "# I renamed these to CSV so that I could open them in Excel and look at them.\n",
    "train = pd.read_csv(\"avila-tr.csv\", header=None)\n",
    "test = pd.read_csv(\"avila-ts.csv\", header=None)\n",
    "\n",
    "x_train = train.iloc[:,:-1]\n",
    "y_train = train.iloc[:,-1]\n",
    "\n",
    "x_test = test.iloc[:,:-1]\n",
    "y_test = test.iloc[:,-1]"
   ]
  },
  {
   "cell_type": "code",
   "execution_count": 13,
   "metadata": {},
   "outputs": [
    {
     "name": "stdout",
     "output_type": "stream",
     "text": [
      "Number of images in the train dataset: 10430\n",
      "Number of images in the test dataset: 10437\n"
     ]
    }
   ],
   "source": [
    "# Output the number of images in each class in the train and test datasets.\n",
    "train_images = train.shape[0]\n",
    "test_images = test.shape[0]\n",
    "\n",
    "print(\"Number of images in the train dataset:\", train_images)\n",
    "print(\"Number of images in the test dataset:\", test_images)\n"
   ]
  },
  {
   "cell_type": "markdown",
   "metadata": {},
   "source": [
    "Question 1.1: Check for missing Data"
   ]
  },
  {
   "cell_type": "code",
   "execution_count": 14,
   "metadata": {},
   "outputs": [
    {
     "name": "stdout",
     "output_type": "stream",
     "text": [
      "Missing data in 'test' dataset:\n",
      "0     0\n",
      "1     0\n",
      "2     0\n",
      "3     0\n",
      "4     0\n",
      "5     0\n",
      "6     0\n",
      "7     0\n",
      "8     0\n",
      "9     0\n",
      "10    0\n",
      "dtype: int64\n",
      "Missing data in 'train' dataset:\n",
      "0     0\n",
      "1     0\n",
      "2     0\n",
      "3     0\n",
      "4     0\n",
      "5     0\n",
      "6     0\n",
      "7     0\n",
      "8     0\n",
      "9     0\n",
      "10    0\n",
      "dtype: int64\n"
     ]
    }
   ],
   "source": [
    "# Check for missing data in 'test' dataset\n",
    "test_missing_data = test.isnull().sum()\n",
    "print(\"Missing data in 'test' dataset:\")\n",
    "print(test_missing_data)\n",
    "\n",
    "# Check for missing data in 'train' dataset\n",
    "train_missing_data = train.isnull().sum()\n",
    "print(\"Missing data in 'train' dataset:\")\n",
    "print(train_missing_data)\n"
   ]
  },
  {
   "cell_type": "code",
   "execution_count": null,
   "metadata": {},
   "outputs": [],
   "source": [
    "# Appears to be no missing data. Some zero values, but I am assuming that 0 is a valid value"
   ]
  },
  {
   "cell_type": "markdown",
   "metadata": {},
   "source": [
    "Question 1.2: Apply Z-normalization to data"
   ]
  },
  {
   "cell_type": "code",
   "execution_count": 18,
   "metadata": {},
   "outputs": [],
   "source": [
    "from sklearn.preprocessing import StandardScaler\n",
    "\n",
    "# Create an instance of StandardScaler\n",
    "scaler = StandardScaler()\n",
    "\n",
    "# Fit the scaler on the training data\n",
    "scaler.fit(x_train)\n",
    "# Apply Z-normalization to the training data\n",
    "x_train_norm = scaler.transform(x_train)\n",
    "\n",
    "scaler.fit(x_test)\n",
    "# Apply Z-normalization to the test data\n",
    "x_test_norm = scaler.transform(x_test)\n"
   ]
  },
  {
   "cell_type": "markdown",
   "metadata": {},
   "source": [
    "Question 2.1: Write a method to train multiple logistic regression models performing One vs All (OvA) classification. The method allows you to pass in training features, and target. The method returns a list of models and their associated labels. \n",
    "Within the method:\n",
    "- Determine the list of classes\n",
    "- Create a place to store all the models\n",
    "- For each class, train a model with the target variable set to 1 and 0 for all other classes\n",
    "- Return the list of models trained and associated labels."
   ]
  },
  {
   "cell_type": "code",
   "execution_count": 19,
   "metadata": {},
   "outputs": [],
   "source": [
    "def trainOvA(x, y):\n",
    "    \"\"\"\n",
    "    TODO: Train the multiclass classifier using OvA strategy. \n",
    "    \"\"\"\n",
    "    labels = sorted(y.unique())\n",
    "    n_labels = len(labels)\n",
    "    print(\"number of classes is {}\".format(n_labels))\n",
    "\n",
    "    #Create model\n",
    "    models = [LogisticRegression() for i in range(n_labels)]\n",
    "    model_labels = [0 for i in range(n_labels)]\n",
    "\n",
    "    for i in range(n_labels):\n",
    "        label = labels[i]\n",
    "        print(\"Train Logistic Regression model for class {}\".format(label))\n",
    "\n",
    "        # update the label according to OvA strategy\n",
    "        y_train_label = y.apply(lambda x: 1 if x == label else 0)\n",
    "\n",
    "        # Train model\n",
    "        models[i].fit(x, y_train_label)\n",
    "        model_labels[i] = label\n",
    "    return models, model_labels\n",
    "\n"
   ]
  },
  {
   "cell_type": "markdown",
   "metadata": {},
   "source": [
    "Question 2.2: Write a method that leverage the multiple models train for OvA, and outputs the majority class."
   ]
  },
  {
   "cell_type": "code",
   "execution_count": 20,
   "metadata": {},
   "outputs": [],
   "source": [
    "def predictOvA(models, labels, x):\n",
    "    \"\"\"\n",
    "    TODO: Make predictions on multiclass problems using the OvA strategy. \n",
    "    \"\"\"\n",
    "    if models == None:\n",
    "        sys.exit(\"The model has not been trained yet. Please call train() first. Exiting...\")\n",
    "\n",
    "    #Create prediction\n",
    "    predictions = pd.DataFrame()\n",
    "    for i in range(len(models)):\n",
    "        label = labels[i]\n",
    "        y_pred = models[i].predict_proba(x)[:,1]\n",
    "        predictions[label] = y_pred\n",
    "\n",
    "    return predictions.idxmax(axis=1).values"
   ]
  },
  {
   "cell_type": "markdown",
   "metadata": {},
   "source": [
    "Question 2.3: Train OvA model on the Avila dataset"
   ]
  },
  {
   "cell_type": "code",
   "execution_count": 21,
   "metadata": {},
   "outputs": [
    {
     "name": "stdout",
     "output_type": "stream",
     "text": [
      "number of classes is 12\n",
      "Train Logistic Regression model for class A\n",
      "Train Logistic Regression model for class B\n",
      "Train Logistic Regression model for class C\n",
      "Train Logistic Regression model for class D\n",
      "Train Logistic Regression model for class E\n",
      "Train Logistic Regression model for class F\n",
      "Train Logistic Regression model for class G\n",
      "Train Logistic Regression model for class H\n",
      "Train Logistic Regression model for class I\n",
      "Train Logistic Regression model for class W\n",
      "Train Logistic Regression model for class X\n",
      "Train Logistic Regression model for class Y\n"
     ]
    }
   ],
   "source": [
    "from sklearn.linear_model import LogisticRegression\n",
    "\n",
    "# Train the multiclass classifier using OvA strategy\n",
    "models, model_labels = trainOvA(x_train_norm, y_train)\n"
   ]
  },
  {
   "cell_type": "markdown",
   "metadata": {},
   "source": [
    "Question 2.4: Predict and evalutate the results of your model"
   ]
  },
  {
   "cell_type": "code",
   "execution_count": 22,
   "metadata": {},
   "outputs": [],
   "source": [
    "te_z_ova = predictOvA(models, model_labels, x_test_norm)\n"
   ]
  },
  {
   "cell_type": "code",
   "execution_count": 23,
   "metadata": {},
   "outputs": [
    {
     "name": "stdout",
     "output_type": "stream",
     "text": [
      "Accuracy of OvA classifier is 0.5309954967902654.\n",
      "Confusion matrix of OvA classifier: \n",
      " [[4159    0    0    0   31   62    0    8   18    0    6    2]\n",
      " [   0    5    0    0    0    0    0    0    0    0    0    0]\n",
      " [  80    0    0    0    9   11    0    0    3    0    0    0]\n",
      " [ 327    0    0    0    5    6    0   14    0    0    1    0]\n",
      " [ 917    0    0    0   75   54    0   10   10    0   28    1]\n",
      " [1881    0    0    0    4   55    0    4   14    0    0    4]\n",
      " [ 413    0    0    0    4   23    0    4    0    0    3    0]\n",
      " [ 366    0    0    0   31   66    0   40   15    0    1    1]\n",
      " [  64    0    0    0    2    5    0    3  733    0   15   10]\n",
      " [  34    0    0    0    9    0    0    0    0    0    2    0]\n",
      " [  93    0    0    0   15    3    0    2   34    0  349   26]\n",
      " [  56    0    0    0    1    1    0    0   63    0   20  126]]\n"
     ]
    }
   ],
   "source": [
    "from sklearn.metrics import accuracy_score\n",
    "from sklearn.metrics import confusion_matrix\n",
    "\n",
    "ova_accuracy = accuracy_score(y_test, te_z_ova)\n",
    "ova_confuction_matrix = confusion_matrix(y_test, te_z_ova)\n",
    "\n",
    "print(\"Accuracy of OvA classifier is {}.\".format(ova_accuracy))\n",
    "print(\"Confusion matrix of OvA classifier: \\n {}\".format(ova_confuction_matrix))"
   ]
  },
  {
   "cell_type": "markdown",
   "metadata": {},
   "source": [
    "---"
   ]
  },
  {
   "cell_type": "markdown",
   "metadata": {},
   "source": [
    "Question 3.1: Develop a method that trains a list of models based on the OvO stragety for multiclass classification using logistic regression. "
   ]
  },
  {
   "cell_type": "code",
   "execution_count": 31,
   "metadata": {},
   "outputs": [],
   "source": [
    "def trainOvO(x, y):\n",
    "    \"\"\"\n",
    "    TODO: Train the multiclass classifier using OvO strategy. \n",
    "    \"\"\"\n",
    "    labels = sorted(y.unique())\n",
    "    n_labels = len(labels)\n",
    "    n_models = int(len(labels) * (len(labels) - 1) / 2)\n",
    "    print(\"number of classes is {}\".format(n_labels))\n",
    "\n",
    "    models = [None] * n_models\n",
    "    model_labels = [None] * n_models\n",
    "    model_idx = 0\n",
    "    for i in range(n_labels):\n",
    "        for j in range(i+1, n_labels):\n",
    "            label_i = labels[i]\n",
    "            label_j = labels[j]\n",
    "            print(\"Train Logistic Regression model to distinguish {} and {}\".format(label_i, label_j))\n",
    "\n",
    "            # update the label according to OvA strategy\n",
    "            train_y = y[(y == label_i) | (y == label_j)]\n",
    "            train_x = x.loc[train_y.index]\n",
    "\n",
    "            # construct the logistic regression instance\n",
    "            lr = LogisticRegression(solver = 'liblinear')\n",
    "            #don't forget to fit\n",
    "            lr.fit(train_x, train_y)\n",
    "            model_labels[model_idx] = (label_i, label_j)\n",
    "        \n",
    "    return models, model_labels"
   ]
  },
  {
   "cell_type": "markdown",
   "metadata": {},
   "source": [
    "Question 3.2: Write a method that leverage the multiple models train for OvO, and outputs the majority class."
   ]
  },
  {
   "cell_type": "code",
   "execution_count": 32,
   "metadata": {},
   "outputs": [],
   "source": [
    "def predictOvO(models, labels, x):\n",
    "    \"\"\"\n",
    "    TODO: Make predictions on multiclass problems using the OvO strategy. \n",
    "    \"\"\"\n",
    "    if models == None:\n",
    "        sys.exit(\"The model has not been trained yet. Please call train() first. Exiting...\")\n",
    "\n",
    "    n_models = len(models)\n",
    "    predictions = pd.DataFrame()\n",
    "    for i in range(n_models):\n",
    "        label = labels[i]\n",
    "        y_pred = models[i].predict(x)\n",
    "        predictions[label] = y_pred\n",
    "    \n",
    "\n",
    "    return predictions.mode(axis=1).iloc[:, 0].values"
   ]
  },
  {
   "cell_type": "markdown",
   "metadata": {},
   "source": [
    "Question 3.3: Train OvO model on the Avila dataset"
   ]
  },
  {
   "cell_type": "code",
   "execution_count": 33,
   "metadata": {},
   "outputs": [
    {
     "name": "stdout",
     "output_type": "stream",
     "text": [
      "number of classes is 12\n",
      "Train Logistic Regression model to distinguish A and B\n",
      "Train Logistic Regression model to distinguish A and C\n",
      "Train Logistic Regression model to distinguish A and D\n",
      "Train Logistic Regression model to distinguish A and E\n",
      "Train Logistic Regression model to distinguish A and F\n",
      "Train Logistic Regression model to distinguish A and G\n",
      "Train Logistic Regression model to distinguish A and H\n",
      "Train Logistic Regression model to distinguish A and I\n",
      "Train Logistic Regression model to distinguish A and W\n",
      "Train Logistic Regression model to distinguish A and X\n",
      "Train Logistic Regression model to distinguish A and Y\n",
      "Train Logistic Regression model to distinguish B and C\n",
      "Train Logistic Regression model to distinguish B and D\n",
      "Train Logistic Regression model to distinguish B and E\n",
      "Train Logistic Regression model to distinguish B and F\n",
      "Train Logistic Regression model to distinguish B and G\n",
      "Train Logistic Regression model to distinguish B and H\n",
      "Train Logistic Regression model to distinguish B and I\n",
      "Train Logistic Regression model to distinguish B and W\n",
      "Train Logistic Regression model to distinguish B and X\n",
      "Train Logistic Regression model to distinguish B and Y\n",
      "Train Logistic Regression model to distinguish C and D\n",
      "Train Logistic Regression model to distinguish C and E\n",
      "Train Logistic Regression model to distinguish C and F\n",
      "Train Logistic Regression model to distinguish C and G\n",
      "Train Logistic Regression model to distinguish C and H\n",
      "Train Logistic Regression model to distinguish C and I\n",
      "Train Logistic Regression model to distinguish C and W\n",
      "Train Logistic Regression model to distinguish C and X\n",
      "Train Logistic Regression model to distinguish C and Y\n",
      "Train Logistic Regression model to distinguish D and E\n",
      "Train Logistic Regression model to distinguish D and F\n",
      "Train Logistic Regression model to distinguish D and G\n",
      "Train Logistic Regression model to distinguish D and H\n",
      "Train Logistic Regression model to distinguish D and I\n",
      "Train Logistic Regression model to distinguish D and W\n",
      "Train Logistic Regression model to distinguish D and X\n",
      "Train Logistic Regression model to distinguish D and Y\n",
      "Train Logistic Regression model to distinguish E and F\n",
      "Train Logistic Regression model to distinguish E and G\n",
      "Train Logistic Regression model to distinguish E and H\n",
      "Train Logistic Regression model to distinguish E and I\n",
      "Train Logistic Regression model to distinguish E and W\n",
      "Train Logistic Regression model to distinguish E and X\n",
      "Train Logistic Regression model to distinguish E and Y\n",
      "Train Logistic Regression model to distinguish F and G\n",
      "Train Logistic Regression model to distinguish F and H\n",
      "Train Logistic Regression model to distinguish F and I\n",
      "Train Logistic Regression model to distinguish F and W\n",
      "Train Logistic Regression model to distinguish F and X\n",
      "Train Logistic Regression model to distinguish F and Y\n",
      "Train Logistic Regression model to distinguish G and H\n",
      "Train Logistic Regression model to distinguish G and I\n",
      "Train Logistic Regression model to distinguish G and W\n",
      "Train Logistic Regression model to distinguish G and X\n",
      "Train Logistic Regression model to distinguish G and Y\n",
      "Train Logistic Regression model to distinguish H and I\n",
      "Train Logistic Regression model to distinguish H and W\n",
      "Train Logistic Regression model to distinguish H and X\n",
      "Train Logistic Regression model to distinguish H and Y\n",
      "Train Logistic Regression model to distinguish I and W\n",
      "Train Logistic Regression model to distinguish I and X\n",
      "Train Logistic Regression model to distinguish I and Y\n",
      "Train Logistic Regression model to distinguish W and X\n",
      "Train Logistic Regression model to distinguish W and Y\n",
      "Train Logistic Regression model to distinguish X and Y\n"
     ]
    }
   ],
   "source": [
    "models, labels = trainOvO(x_train, y_train)"
   ]
  },
  {
   "cell_type": "markdown",
   "metadata": {},
   "source": [
    "Question 3.4: Predict and evalutate the results of your model"
   ]
  },
  {
   "cell_type": "code",
   "execution_count": 35,
   "metadata": {},
   "outputs": [
    {
     "ename": "AttributeError",
     "evalue": "'NoneType' object has no attribute 'predict'",
     "output_type": "error",
     "traceback": [
      "\u001b[1;31m---------------------------------------------------------------------------\u001b[0m",
      "\u001b[1;31mAttributeError\u001b[0m                            Traceback (most recent call last)",
      "Cell \u001b[1;32mIn[35], line 1\u001b[0m\n\u001b[1;32m----> 1\u001b[0m te_z_ovo \u001b[38;5;241m=\u001b[39m \u001b[43mpredictOvO\u001b[49m\u001b[43m(\u001b[49m\u001b[43mmodels\u001b[49m\u001b[43m,\u001b[49m\u001b[43m \u001b[49m\u001b[43mlabels\u001b[49m\u001b[43m,\u001b[49m\u001b[43m \u001b[49m\u001b[43mx_test\u001b[49m\u001b[43m)\u001b[49m\n",
      "Cell \u001b[1;32mIn[32], line 12\u001b[0m, in \u001b[0;36mpredictOvO\u001b[1;34m(models, labels, x)\u001b[0m\n\u001b[0;32m     10\u001b[0m \u001b[38;5;28;01mfor\u001b[39;00m i \u001b[38;5;129;01min\u001b[39;00m \u001b[38;5;28mrange\u001b[39m(n_models):\n\u001b[0;32m     11\u001b[0m     label \u001b[38;5;241m=\u001b[39m labels[i]\n\u001b[1;32m---> 12\u001b[0m     y_pred \u001b[38;5;241m=\u001b[39m \u001b[43mmodels\u001b[49m\u001b[43m[\u001b[49m\u001b[43mi\u001b[49m\u001b[43m]\u001b[49m\u001b[38;5;241;43m.\u001b[39;49m\u001b[43mpredict\u001b[49m(x)\n\u001b[0;32m     13\u001b[0m     predictions[label] \u001b[38;5;241m=\u001b[39m y_pred\n\u001b[0;32m     16\u001b[0m \u001b[38;5;28;01mreturn\u001b[39;00m predictions\u001b[38;5;241m.\u001b[39mmode(axis\u001b[38;5;241m=\u001b[39m\u001b[38;5;241m1\u001b[39m)\u001b[38;5;241m.\u001b[39miloc[:, \u001b[38;5;241m0\u001b[39m]\u001b[38;5;241m.\u001b[39mvalues\n",
      "\u001b[1;31mAttributeError\u001b[0m: 'NoneType' object has no attribute 'predict'"
     ]
    }
   ],
   "source": [
    "te_z_ovo = predictOvO(models, labels, x_test)"
   ]
  },
  {
   "cell_type": "code",
   "execution_count": null,
   "metadata": {},
   "outputs": [],
   "source": [
    "\n",
    "ovo_accuracy = accuracy_score(y_test, te_z_ovo)\n",
    "ovo_confuction_matrix = confusion_matrix(y_test, te_z_ovo)\n",
    "\n",
    "\n",
    "print(\"Accuracy of OvO classifier is {}.\".format(ovo_accuracy))\n",
    "print(\"Confusion matrix of OvO classifier: \\n {}\".format(ovo_confuction_matrix))"
   ]
  },
  {
   "cell_type": "markdown",
   "metadata": {},
   "source": [
    "Question 4.1: [LogisticRegression](https://scikit-learn.org/stable/modules/generated/sklearn.linear_model.LogisticRegression.html) within sklearn supports two approaches for solving multi-class problems: 'ovr', 'multinomial'. Try out both approaches, and evaluate compare the performance agains what you developed in questions 2 and 3."
   ]
  },
  {
   "cell_type": "code",
   "execution_count": 36,
   "metadata": {},
   "outputs": [
    {
     "name": "stdout",
     "output_type": "stream",
     "text": [
      "Accuracy of OvO classifier is 0.5279294816518156.\n",
      "Confusion matrix of OvO classifier: \n",
      " [[4061   10    3    0   28  101    0   12   54    0   12    5]\n",
      " [   0    5    0    0    0    0    0    0    0    0    0    0]\n",
      " [  69    4    0    0   10   12    0    0    8    0    0    0]\n",
      " [ 301    0    0    0   14   13    0   12   11    0    2    0]\n",
      " [ 834    2    0    0  114   55    0   17   23    0   49    1]\n",
      " [1819   10    2    0    3   84    0    4   34    0    2    4]\n",
      " [ 356    0    0    0    4   78    0    5    1    0    3    0]\n",
      " [ 324    0    0    0   30  102    0   44   19    0    1    0]\n",
      " [  51    0    0    1    1    6    0    4  743    0   15   11]\n",
      " [  35    0    0    0    9    0    0    0    0    0    1    0]\n",
      " [  70    0    0    0    9    0    0    7   52    0  367   17]\n",
      " [  43    0    0    0    1    0    0    0  103    0   28   92]]\n"
     ]
    }
   ],
   "source": [
    "clf = LogisticRegression(multi_class='ovr').fit(x_train_norm, y_train)\n",
    "y_ovr = clf.predict(x_test_norm)\n",
    "\n",
    "ovr_accuracy = accuracy_score(y_test, y_ovr)\n",
    "ovr_confuction_matrix = confusion_matrix(y_test, y_ovr)\n",
    "\n",
    "\n",
    "print(\"Accuracy of OvO classifier is {}.\".format(ovr_accuracy))\n",
    "print(\"Confusion matrix of OvO classifier: \\n {}\".format(ovr_confuction_matrix))"
   ]
  },
  {
   "cell_type": "code",
   "execution_count": 37,
   "metadata": {},
   "outputs": [
    {
     "name": "stdout",
     "output_type": "stream",
     "text": [
      "Accuracy of OvO classifier is 0.5406726070709974.\n",
      "Confusion matrix of OvO classifier: \n",
      " [[3790   10   27    7   57  151    0   22   88    0  125    9]\n",
      " [   0    5    0    0    0    0    0    0    0    0    0    0]\n",
      " [  55    4    1    0   16   11    0    7    9    0    0    0]\n",
      " [ 246    0    0    0   20   14    0   12   19    0   42    0]\n",
      " [ 572    2    0    0  276   62    0   30   32    0  114    7]\n",
      " [1630   10    5    1   17  209    0   21   50    0   15    4]\n",
      " [ 369    0    0    0   10   50    0   17    1    0    0    0]\n",
      " [ 271    0    0    0   51   60    0  117   18    0    2    1]\n",
      " [  26    0    0    1    2   14    0    7  740    0   26   16]\n",
      " [  31    0    0    0   12    0    0    0    0    2    0    0]\n",
      " [  38    0    0    0   21    2    0    2   41    9  389   20]\n",
      " [  23    0    0    0    5    1    0    0   77    0   47  114]]\n"
     ]
    },
    {
     "name": "stderr",
     "output_type": "stream",
     "text": [
      "C:\\Users\\louis\\AppData\\Local\\Packages\\PythonSoftwareFoundation.Python.3.11_qbz5n2kfra8p0\\LocalCache\\local-packages\\Python311\\site-packages\\sklearn\\linear_model\\_logistic.py:460: ConvergenceWarning: lbfgs failed to converge (status=1):\n",
      "STOP: TOTAL NO. of ITERATIONS REACHED LIMIT.\n",
      "\n",
      "Increase the number of iterations (max_iter) or scale the data as shown in:\n",
      "    https://scikit-learn.org/stable/modules/preprocessing.html\n",
      "Please also refer to the documentation for alternative solver options:\n",
      "    https://scikit-learn.org/stable/modules/linear_model.html#logistic-regression\n",
      "  n_iter_i = _check_optimize_result(\n"
     ]
    }
   ],
   "source": [
    "#class = multinomial\n",
    "clf = clf = LogisticRegression(multi_class='multinomial').fit(x_train_norm, y_train)\n",
    "y_multinomial = clf.predict(x_test_norm)\n",
    "\n",
    "multinomial_accuracy = accuracy_score(y_test, y_multinomial)\n",
    "multinomial_confuction_matrix = confusion_matrix(y_test, y_multinomial)\n",
    "\n",
    "\n",
    "print(\"Accuracy of OvO classifier is {}.\".format(multinomial_accuracy))\n",
    "print(\"Confusion matrix of OvO classifier: \\n {}\".format(multinomial_confuction_matrix))"
   ]
  },
  {
   "cell_type": "markdown",
   "metadata": {},
   "source": [
    "Question 4: Create a new text cell in your Notebook: Complete a 50-100 word summary (or short description of your thinking in applying this week's learning to the solution) of your experience in this assignment. Include: What was your incoming experience with this model, if any? what steps you took, what obstacles you encountered. how you link this exercise to real-world, machine learning problem-solving. (What steps were missing? What else do you need to learn?) This summary allows your instructor to know how you are doing and allot points for your effort in thinking and planning, and making connections to real-world work."
   ]
  },
  {
   "cell_type": "code",
   "execution_count": null,
   "metadata": {},
   "outputs": [],
   "source": []
  }
 ],
 "metadata": {
  "kernelspec": {
   "display_name": "Python 3",
   "language": "python",
   "name": "python3"
  },
  "language_info": {
   "codemirror_mode": {
    "name": "ipython",
    "version": 3
   },
   "file_extension": ".py",
   "mimetype": "text/x-python",
   "name": "python",
   "nbconvert_exporter": "python",
   "pygments_lexer": "ipython3",
   "version": "3.11.9"
  }
 },
 "nbformat": 4,
 "nbformat_minor": 2
}
